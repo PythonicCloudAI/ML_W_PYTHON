{
  "nbformat": 4,
  "nbformat_minor": 0,
  "metadata": {
    "colab": {
      "provenance": []
    },
    "kernelspec": {
      "name": "python3",
      "display_name": "Python 3"
    },
    "language_info": {
      "name": "python"
    }
  },
  "cells": [
    {
      "cell_type": "markdown",
      "source": [
        "# **Step 1: Import the necessary libraries**"
      ],
      "metadata": {
        "id": "sE1TUKBHzCyW"
      }
    },
    {
      "cell_type": "code",
      "execution_count": 1,
      "metadata": {
        "id": "ZP_mLY7BynBU"
      },
      "outputs": [],
      "source": [
        "import pandas as pd\n",
        "import scipy\n",
        "import numpy as np\n",
        "from sklearn.preprocessing import MinMaxScaler\n",
        "import seaborn as sns\n",
        "import matplotlib.pyplot as plt"
      ]
    },
    {
      "cell_type": "markdown",
      "source": [
        "# **Step 2: Data Importing**"
      ],
      "metadata": {
        "id": "6DZtvdm2zNNb"
      }
    },
    {
      "cell_type": "code",
      "source": [
        "df = pd.read_csv('SampleData.csv')"
      ],
      "metadata": {
        "id": "MWc1lCnAzTLu"
      },
      "execution_count": 2,
      "outputs": []
    },
    {
      "cell_type": "markdown",
      "source": [
        "# **Step 3 : Seggregation of dataset into Matrix of Features & Dependent Variable Vector**"
      ],
      "metadata": {
        "id": "cBWIwN-O5-yN"
      }
    },
    {
      "cell_type": "code",
      "source": [
        "x_features = df.iloc[:, :-1].values\n",
        "y_dependent = df.iloc[:, -1].values"
      ],
      "metadata": {
        "id": "m0hrUqqR6Ins"
      },
      "execution_count": 3,
      "outputs": []
    },
    {
      "cell_type": "code",
      "source": [
        "print(x_features)"
      ],
      "metadata": {
        "colab": {
          "base_uri": "https://localhost:8080/"
        },
        "id": "xfc-i28M7IvM",
        "outputId": "3bbf4bda-d79d-4fbe-cdd3-0b220933afe5"
      },
      "execution_count": 4,
      "outputs": [
        {
          "output_type": "stream",
          "name": "stdout",
          "text": [
            "[['USA' 34.0 70000.0]\n",
            " ['Spain' 28.0 55000.0]\n",
            " ['Germany' 31.0 60000.0]\n",
            " ['USA' 39.0 nan]\n",
            " ['Germany' 41.0 72000.0]\n",
            " ['USA' 36.0 65000.0]\n",
            " ['Spain' nan 59000.0]\n",
            " ['USA' 49.0 85000.0]\n",
            " ['Germany' 51.0 90000.0]\n",
            " ['USA' 38.0 71000.0]]\n"
          ]
        }
      ]
    },
    {
      "cell_type": "markdown",
      "source": [],
      "metadata": {
        "id": "Wfke8BTuRx6y"
      }
    },
    {
      "cell_type": "code",
      "source": [
        "print(y_dependent)"
      ],
      "metadata": {
        "colab": {
          "base_uri": "https://localhost:8080/"
        },
        "id": "hFdyAJNA7Mve",
        "outputId": "b7c513a0-5565-41dd-be7d-65590ee78da6"
      },
      "execution_count": 5,
      "outputs": [
        {
          "output_type": "stream",
          "name": "stdout",
          "text": [
            "['No' 'Yes' 'No' 'Yes' 'No' 'Yes' 'No' 'Yes' 'No' 'Yes']\n"
          ]
        }
      ]
    },
    {
      "cell_type": "markdown",
      "source": [
        "# **Step 4 : Handling missing Data**"
      ],
      "metadata": {
        "id": "DKCb5bqgRzYn"
      }
    },
    {
      "cell_type": "code",
      "source": [
        "df.isnull().sum()"
      ],
      "metadata": {
        "colab": {
          "base_uri": "https://localhost:8080/"
        },
        "id": "zy7WFkq_R7z7",
        "outputId": "9e25a97f-72b3-48ed-d3c3-00acfc705ea8"
      },
      "execution_count": 6,
      "outputs": [
        {
          "output_type": "execute_result",
          "data": {
            "text/plain": [
              "Country      0\n",
              "Age          1\n",
              "Salary       1\n",
              "Purchased    0\n",
              "dtype: int64"
            ]
          },
          "metadata": {},
          "execution_count": 6
        }
      ]
    },
    {
      "cell_type": "code",
      "source": [
        "from sklearn.impute import SimpleImputer\n",
        "imputer = SimpleImputer(missing_values=np.nan, strategy='mean')\n",
        "imputer.fit(x_features[:,1:3])\n",
        "x_features[:,1:3] = imputer.transform(x_features[:,1:3])"
      ],
      "metadata": {
        "id": "qCbGFTOJTa8s"
      },
      "execution_count": 7,
      "outputs": []
    },
    {
      "cell_type": "code",
      "source": [
        "print (x_features)"
      ],
      "metadata": {
        "colab": {
          "base_uri": "https://localhost:8080/"
        },
        "id": "t2pdRWotVliL",
        "outputId": "d2267b0a-8fa3-421d-856b-56a9bc65cb83"
      },
      "execution_count": 8,
      "outputs": [
        {
          "output_type": "stream",
          "name": "stdout",
          "text": [
            "[['USA' 34.0 70000.0]\n",
            " ['Spain' 28.0 55000.0]\n",
            " ['Germany' 31.0 60000.0]\n",
            " ['USA' 39.0 69666.66666666667]\n",
            " ['Germany' 41.0 72000.0]\n",
            " ['USA' 36.0 65000.0]\n",
            " ['Spain' 38.55555555555556 59000.0]\n",
            " ['USA' 49.0 85000.0]\n",
            " ['Germany' 51.0 90000.0]\n",
            " ['USA' 38.0 71000.0]]\n"
          ]
        }
      ]
    },
    {
      "cell_type": "markdown",
      "source": [
        "# **Step 5 : Encoding Categorical Data : One Hot Encoding**"
      ],
      "metadata": {
        "id": "osqj3MzYx1kr"
      }
    },
    {
      "cell_type": "code",
      "source": [
        "from sklearn.compose import ColumnTransformer\n",
        "from sklearn.preprocessing import OneHotEncoder\n",
        "column_transformer = ColumnTransformer(transformers=[('encoder',OneHotEncoder(),[0])], remainder='passthrough')\n",
        "x_features = np.array(column_transformer.fit_transform(x_features))"
      ],
      "metadata": {
        "id": "qTu6_Yn0x7qx"
      },
      "execution_count": 9,
      "outputs": []
    },
    {
      "cell_type": "code",
      "source": [
        "print(x_features)"
      ],
      "metadata": {
        "colab": {
          "base_uri": "https://localhost:8080/"
        },
        "id": "yJRxrWH51Fv8",
        "outputId": "92abfb85-e78c-493e-b47b-8028db316c53"
      },
      "execution_count": 10,
      "outputs": [
        {
          "output_type": "stream",
          "name": "stdout",
          "text": [
            "[[0.0 0.0 1.0 34.0 70000.0]\n",
            " [0.0 1.0 0.0 28.0 55000.0]\n",
            " [1.0 0.0 0.0 31.0 60000.0]\n",
            " [0.0 0.0 1.0 39.0 69666.66666666667]\n",
            " [1.0 0.0 0.0 41.0 72000.0]\n",
            " [0.0 0.0 1.0 36.0 65000.0]\n",
            " [0.0 1.0 0.0 38.55555555555556 59000.0]\n",
            " [0.0 0.0 1.0 49.0 85000.0]\n",
            " [1.0 0.0 0.0 51.0 90000.0]\n",
            " [0.0 0.0 1.0 38.0 71000.0]]\n"
          ]
        }
      ]
    },
    {
      "cell_type": "markdown",
      "source": [
        "# **Step 6 : Encoding Categorical Data : Label Encoding**"
      ],
      "metadata": {
        "id": "On1uxJPTTFmZ"
      }
    },
    {
      "cell_type": "code",
      "source": [
        "from sklearn.preprocessing import LabelEncoder\n",
        "label_encoding = LabelEncoder()\n",
        "y_dependent = label_encoding.fit_transform(y_dependent)"
      ],
      "metadata": {
        "id": "SegsySouS59y"
      },
      "execution_count": 11,
      "outputs": []
    },
    {
      "cell_type": "code",
      "source": [
        "print(y_dependent)"
      ],
      "metadata": {
        "colab": {
          "base_uri": "https://localhost:8080/"
        },
        "id": "8tzqlYClTe0P",
        "outputId": "e6d2e2c1-9862-4247-fee4-c243075e8b0e"
      },
      "execution_count": 12,
      "outputs": [
        {
          "output_type": "stream",
          "name": "stdout",
          "text": [
            "[0 1 0 1 0 1 0 1 0 1]\n"
          ]
        }
      ]
    },
    {
      "cell_type": "markdown",
      "source": [
        "# **Step 7 : Splitting dataset into Training and Test Dataset**"
      ],
      "metadata": {
        "id": "FLmumPIV4jdO"
      }
    },
    {
      "cell_type": "code",
      "source": [
        "from sklearn.model_selection import train_test_split\n",
        "x_train_set, x_test_set, y_train_set, y_test_set = train_test_split(x_features, y_dependent, test_size = 0.2, random_state = 1)"
      ],
      "metadata": {
        "id": "hkrs9sl84uEH"
      },
      "execution_count": 14,
      "outputs": []
    },
    {
      "cell_type": "code",
      "source": [
        "print(x_train_set)"
      ],
      "metadata": {
        "colab": {
          "base_uri": "https://localhost:8080/"
        },
        "id": "RyDj-GMk5hho",
        "outputId": "d8a8887b-af40-4916-d241-899282242c12"
      },
      "execution_count": 15,
      "outputs": [
        {
          "output_type": "stream",
          "name": "stdout",
          "text": [
            "[[0.0 1.0 0.0 38.55555555555556 59000.0]\n",
            " [1.0 0.0 0.0 41.0 72000.0]\n",
            " [0.0 0.0 1.0 34.0 70000.0]\n",
            " [0.0 0.0 1.0 39.0 69666.66666666667]\n",
            " [0.0 1.0 0.0 28.0 55000.0]\n",
            " [0.0 0.0 1.0 49.0 85000.0]\n",
            " [1.0 0.0 0.0 51.0 90000.0]\n",
            " [0.0 0.0 1.0 36.0 65000.0]]\n"
          ]
        }
      ]
    },
    {
      "cell_type": "code",
      "source": [
        "print(x_test_set)"
      ],
      "metadata": {
        "colab": {
          "base_uri": "https://localhost:8080/"
        },
        "id": "-KhtwfXN5hXG",
        "outputId": "70da0b4d-7cf9-4bd0-cb6c-f0fb8a766077"
      },
      "execution_count": 16,
      "outputs": [
        {
          "output_type": "stream",
          "name": "stdout",
          "text": [
            "[[1.0 0.0 0.0 31.0 60000.0]\n",
            " [0.0 0.0 1.0 38.0 71000.0]]\n"
          ]
        }
      ]
    },
    {
      "cell_type": "code",
      "source": [
        "print(y_train_set)"
      ],
      "metadata": {
        "colab": {
          "base_uri": "https://localhost:8080/"
        },
        "id": "pM-PwozC5hHy",
        "outputId": "ed426e01-5283-4d21-f81c-8f73bac706cd"
      },
      "execution_count": 17,
      "outputs": [
        {
          "output_type": "stream",
          "name": "stdout",
          "text": [
            "[0 0 0 1 1 1 0 1]\n"
          ]
        }
      ]
    },
    {
      "cell_type": "code",
      "source": [
        "print(y_test_set)"
      ],
      "metadata": {
        "colab": {
          "base_uri": "https://localhost:8080/"
        },
        "id": "6sx9M8k15gyk",
        "outputId": "84d4f616-753c-45b0-e43b-f46851ae28d4"
      },
      "execution_count": 18,
      "outputs": [
        {
          "output_type": "stream",
          "name": "stdout",
          "text": [
            "[0 1]\n"
          ]
        }
      ]
    }
  ]
}